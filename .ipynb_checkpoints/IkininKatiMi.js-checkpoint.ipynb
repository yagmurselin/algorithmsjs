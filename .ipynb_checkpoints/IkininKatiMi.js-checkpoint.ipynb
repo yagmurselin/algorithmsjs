{
 "cells": [
  {
   "cell_type": "code",
   "execution_count": null,
   "id": "475f5b3d",
   "metadata": {},
   "outputs": [],
   "source": [
    "\"Eldeki sayı 2'nin katı mı? sorusunun çözümü için kullanılan bir algoritma js ile açıklanacaktır\"\n"
   ]
  },
  {
   "cell_type": "code",
   "execution_count": null,
   "id": "be140435",
   "metadata": {},
   "outputs": [],
   "source": [
    "İşlem için ikili sayı sistemi kullanıp eldeki sayı(n) ve eldeki sayının bir eksiğini(n-1) çarptığımızda(&) \n",
    "sonuç 0 çıkıyorsa sayı(n1 0 0) ikinin üssüdür."
   ]
  },
  {
   "cell_type": "code",
   "execution_count": null,
   "id": "d05d8b37",
   "metadata": {},
   "outputs": [],
   "source": [
    "örneğin; 1 0 0 0 (8)         1 0 1 (5)     ***01 değeri hariç bütün değerler için geçrlidi\n",
    "         0 1 1 1 (7)         1 0 0 (4)\n",
    "       ------------          ---------\n",
    "         0 0 0 0 (0)         1 0 0 (4) "
   ]
  },
  {
   "cell_type": "code",
   "execution_count": 2,
   "id": "70452da4",
   "metadata": {},
   "outputs": [
    {
     "ename": "SyntaxError",
     "evalue": "invalid syntax (<ipython-input-2-df55ae8181ae>, line 1)",
     "output_type": "error",
     "traceback": [
      "\u001b[1;36m  File \u001b[1;32m\"<ipython-input-2-df55ae8181ae>\"\u001b[1;36m, line \u001b[1;32m1\u001b[0m\n\u001b[1;33m    export const ikininKatiMi = (n) => {\u001b[0m\n\u001b[1;37m           ^\u001b[0m\n\u001b[1;31mSyntaxError\u001b[0m\u001b[1;31m:\u001b[0m invalid syntax\n"
     ]
    }
   ],
   "source": [
    "export const ikininKatiMi = (n) => {\n",
    "    if(n>0 &&(n&(n-1))===0)\n",
    "{return true}\n",
    " return false}"
   ]
  },
  {
   "cell_type": "code",
   "execution_count": null,
   "id": "bfbb864c",
   "metadata": {},
   "outputs": [],
   "source": [
    "\"String ifadenin harflerinin alfabede tersini alıp yerine yazma işlemi.\"\n",
    "\"Örneğin ilk hali 'az' olan ifade işlemden sonra 'za' çıktısını verecektir.\"\n",
    "\"The Atbash Cipher olarak da adlandırılır\"\n",
    "\"İngilizce alfabe baz alınmıştır\"\n"
   ]
  },
  {
   "cell_type": "code",
   "execution_count": null,
   "id": "e400b764",
   "metadata": {},
   "outputs": [],
   "source": [
    "const Atbash = (str)=>{\n",
    "    if (typeof str !== 'string'){\n",
    "        throw new TypeError('Girilen ifade string olmalı')\n",
    "    }\n",
    "    return str.replace([a-z]/gi), (char) {  ///gi regex'te girilen ifadenin case insensitive olduğunu belirtir yani a=A olacaktır.\n",
    "     const charCode =char.charCodeAt()\n",
    "     if(/[A-Z]/.test(char)) {\n",
    "         return String.fromCharCode(90+65)} \n",
    "   return String.fromCharCode(122+97-charCode  })\n",
    "                                         }\n",
    "    export default Atbash //////üstünden geç"
   ]
  }
 ],
 "metadata": {
  "kernelspec": {
   "display_name": "Python 3",
   "language": "python",
   "name": "python3"
  },
  "language_info": {
   "codemirror_mode": {
    "name": "ipython",
    "version": 3
   },
   "file_extension": ".py",
   "mimetype": "text/x-python",
   "name": "python",
   "nbconvert_exporter": "python",
   "pygments_lexer": "ipython3",
   "version": "3.8.8"
  }
 },
 "nbformat": 4,
 "nbformat_minor": 5
}
